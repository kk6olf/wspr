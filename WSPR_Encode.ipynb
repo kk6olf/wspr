{
 "cells": [
  {
   "cell_type": "code",
   "execution_count": 107,
   "metadata": {},
   "outputs": [],
   "source": [
    "from bitarray import bitarray #package that makes working with long bit arrays easier (pip install bitarray)\n",
    "\n",
    "#Generate the WSPR Frequency Shift Key values (4FSK)\n",
    "\n",
    "#Jamie Taylor KK6OLF\n",
    "#January 2018\n",
    "\n",
    "#This code was written to make the WSPR protocol encoding easily understandable.\n",
    "#For that reason it emphasizes readable at the expense of some efficiency and also avoids\n",
    "#some obvious Python idioms to make the code more understandable by non-Python readers\n",
    "\n",
    "#This code is useful if you want to generate the 4FSK values for WSPR messages to drop in an embedded processor\n",
    "#or adapt into a GNU Radio Python block to send WSPR using an SDR device (I've used it for both.)\n",
    "\n",
    "#Note that in the convolutional encoding section the convolution polynomials (taps) get bit reversed\n",
    "#this is so the code corresponds to a set of slides I created which step through the convolutional encoding process\n",
    "#where the shift registers are move left to right (making them *appear* to move MSB to LSB with the message \n",
    "#fed MSB first into the shift register.) I'm not sure why, but this seems to be the standard pedagogical convention \n",
    "#and I thought it was easier to make my presentation comparable to other explanations of convolutional encoding \n",
    "#should people be looking at multiple instructional materials. (Of course the shifts are all relative, \n",
    "#as long are you are consistent - I just tried to write the code to look like most of the examples \n",
    "#people will run into.)\n",
    "\n",
    "#Released under CCO - have fun with it.\n",
    "#WSPR encoding in Python by Jamie Taylor\n",
    "#To the extent possible under law, the person who associated CC0 with\n",
    "#WSPR encoding in Python has waived all copyright and related or neighboring rights to WSPR encoding in Python.\n",
    "#You should have received a copy of the CC0 legalcode along with this work.  \n",
    "#If not, see <http://creativecommons.org/publicdomain/zero/1.0/>.\n",
    "\n",
    "#The components of the message sent in the WSPR protocol\n",
    "callsign = \"KK6OLF\"\n",
    "gridsquare = \"CM87\" #https://en.wikipedia.org/wiki/Maidenhead_Locator_System (Why not use S2Cells?!)\n",
    "powerlevel = 20\n",
    "\n",
    "#For comparison see the encoded message for George Smart\n",
    "#https://www.george-smart.co.uk/arduino/arduino_wspr/\n",
    "#callsign = \" M1GEO\" #note the leading space to pad the call sign to 6 chars (3rd char must be number)\n",
    "#gridsquare = \"JO01\"\n",
    "#powerlevel = 20"
   ]
  },
  {
   "cell_type": "code",
   "execution_count": 108,
   "metadata": {},
   "outputs": [],
   "source": [
    "#helper function for debugging - display a binary string of 1's and 0's in hex\n",
    "def b2h(bstr):\n",
    "        return ''.join( [ \"%02X \" % ord( x ) for x in bstr ] ).strip()"
   ]
  },
  {
   "cell_type": "markdown",
   "metadata": {},
   "source": [
    "## Compress Callsign, Gridsquare and Powerlevel into ints"
   ]
  },
  {
   "cell_type": "code",
   "execution_count": 109,
   "metadata": {},
   "outputs": [],
   "source": [
    "#call sign characters to ints: '0' to '9' = 0 to 9; 'A' to 'Z' = 10 to 35; space = 36\n",
    "def cs_encode(c):\n",
    "    if (c == ' '):\n",
    "        return 36\n",
    "    if (c<='9') and (c>='0'):\n",
    "        return ord(c) - 48\n",
    "    return ord(c) - ord('A') + 10"
   ]
  },
  {
   "cell_type": "code",
   "execution_count": 110,
   "metadata": {},
   "outputs": [],
   "source": [
    "#a quick sanity check that things will go as expected\n",
    "assert (cs_encode(' ') == 36)\n",
    "assert (cs_encode('Z') == 35)\n",
    "assert (cs_encode('9') == 9)"
   ]
  },
  {
   "cell_type": "code",
   "execution_count": 111,
   "metadata": {},
   "outputs": [],
   "source": [
    "#compress call sign into an int\n",
    "N = cs_ord(callsign[0])          #first character can take on any of the 37 values including [sp],\n",
    "N = N * 36 + cs_encode(callsign[1]) #second character cannot then be a space so can have 36 values\n",
    "N = N * 10 + cs_encode(callsign[2]) #third character must always be a number, so only 10 values are possible.\n",
    "N = 27 * N + cs_encode(callsign[3]) - 10\n",
    "N = 27 * N + cs_encode(callsign[4]) - 10 #Characters at the end cannot be numbers,\n",
    "N = 27 * N + cs_encode(callsign[5]) - 10"
   ]
  },
  {
   "cell_type": "code",
   "execution_count": 112,
   "metadata": {},
   "outputs": [
    {
     "name": "stdout",
     "output_type": "stream",
     "text": [
      "N: 145782806\n"
     ]
    }
   ],
   "source": [
    "print \"N: \" + str(N)"
   ]
  },
  {
   "cell_type": "code",
   "execution_count": 113,
   "metadata": {},
   "outputs": [],
   "source": [
    "#grid square *characters* to ints: 'A' to 'R' = 0 to 17\n",
    "def gschar_encode(c):\n",
    "    return ord(c) - 65\n",
    "\n",
    "#grid square *ints* to ints: '0' to '9' = 0 to 9\n",
    "def gsint_encode(c):\n",
    "    return ord(c) - 48"
   ]
  },
  {
   "cell_type": "code",
   "execution_count": 114,
   "metadata": {},
   "outputs": [],
   "source": [
    "#compress gridsquare and power level into int\n",
    "M = (179 - 10 * gschar_encode(gridsquare[0]) - gsint_encode(gridsquare[2]) ) * 180 + 10 * gschar_encode(gridsquare[1]) + gsint_encode(gridsquare[3])\n",
    "M = M * 128 + powerlevel + 64"
   ]
  },
  {
   "cell_type": "code",
   "execution_count": 115,
   "metadata": {},
   "outputs": [
    {
     "name": "stdout",
     "output_type": "stream",
     "text": [
      "M: 3495380\n"
     ]
    }
   ],
   "source": [
    "print \"M: \" + str(M)"
   ]
  },
  {
   "cell_type": "markdown",
   "metadata": {},
   "source": [
    "## Create one message array for encoding"
   ]
  },
  {
   "cell_type": "code",
   "execution_count": 116,
   "metadata": {},
   "outputs": [],
   "source": [
    "#concat the 28 bits in N and the 22 bits in M into 50 consecutive bits\n",
    "#then add 31 empty bits that will be used (later) to flush the last msg bit through convolution shift register\n",
    "\n",
    "msgN = bitarray(\"{:028b}\".format(N)) #format N as 28 bits of binary\n",
    "msgM = bitarray(\"{:022b}\".format(M)) #format M as 22 bits of binary\n",
    "flushbits = 31 * bitarray('0') #31 empty flush bits (used later as the 'tail' message during convolution encoding)\n",
    "\n",
    "#concat the messages: N + M + flushbits\n",
    "msg = bitarray() #empty bitarray\n",
    "msg.extend(msgN)\n",
    "msg.extend(msgM)\n",
    "msg.extend(flushbits)\n",
    "\n",
    "assert (msg.length() == 81) #msg must be 81 bits long"
   ]
  },
  {
   "cell_type": "code",
   "execution_count": 117,
   "metadata": {},
   "outputs": [
    {
     "name": "stdout",
     "output_type": "stream",
     "text": [
      "msg bytes: 8B 07 81 6D 55 75 00 00 00 00 00\n",
      "bit lenght: 81\n"
     ]
    }
   ],
   "source": [
    "print \"msg bytes: \" + b2h(msg.tobytes())\n",
    "print \"bit lenght: \" + str(msg.length())"
   ]
  },
  {
   "cell_type": "markdown",
   "metadata": {},
   "source": [
    "## Convolution encoding!"
   ]
  },
  {
   "cell_type": "code",
   "execution_count": 118,
   "metadata": {},
   "outputs": [],
   "source": [
    "#calc the partity bits for a shift register state\n",
    "def paritybits(polylist, shiftreg):\n",
    "    parity = []\n",
    "    \n",
    "    for poly in polylist:\n",
    "        tmpreg = shiftreg & poly #for each tap, see if there is a bit set in the shift register\n",
    "        p = int(tmpreg.count(1) % 2) #modulo2 addition of the tap values (number of bits set to \"1\" mod 2)\n",
    "        parity.append(p)\n",
    "        \n",
    "    return parity #return as many parity bits as there are polynomials describing the shiftreg taps"
   ]
  },
  {
   "cell_type": "code",
   "execution_count": 119,
   "metadata": {},
   "outputs": [],
   "source": [
    "#move the message one bit at a time into the shiftreg and calc parity for each shift\n",
    "def encode(message, polylist):\n",
    "    \n",
    "    K = polylist[0].length() #constraint length (K) is the length of the polynomial(s) that describe the taps\n",
    "    \n",
    "    #create a shift register K in size, initialize to all zeros\n",
    "    #str(\"{:0\"+str(K)+\"b}\").format(0) means create a string, length K, in binary, representing zero \n",
    "    sr = bitarray(str(\"{:0\"+str(K)+\"b}\").format(0))\n",
    "    \n",
    "    output = []\n",
    "    \n",
    "    #push each message bit into the shift register and generate parity bits\n",
    "    for i in range(0, len(message)):\n",
    "        \n",
    "        #move the shift register one bit to the right\n",
    "        for s in range(len(sr)-1, 0, -1):\n",
    "            sr[s] = sr[s-1]\n",
    "            \n",
    "        #shift the next message bit into the shift register\n",
    "        sr[0] = message[i]\n",
    "        #print sr.to01() #debug the shift register as a string of 1's and 0's\n",
    "        \n",
    "        #generate the convolutional parity bits for this shift register state\n",
    "        output.extend(paritybits(polylist, sr))\n",
    "\n",
    "    return output"
   ]
  },
  {
   "cell_type": "code",
   "execution_count": 120,
   "metadata": {},
   "outputs": [
    {
     "name": "stdout",
     "output_type": "stream",
     "text": [
      "[bitarray('10001010110010100000101101001111'), bitarray('11100010001111001000011000100111')]\n"
     ]
    }
   ],
   "source": [
    "#encode our WSPR message!\n",
    "#the \"polynomials\" represent the \"taps\" in the convolutional filter (specifies how parity bits are calculated)\n",
    "\n",
    "poly0 = bitarray(\"{:032b}\".format(0xf2d05351))\n",
    "#WSPR moves shift register LSB to MSB first (shift left), the reverse of our approach, so flip the polys around\n",
    "poly0.reverse() \n",
    "\n",
    "poly1 = bitarray(\"{:032b}\".format(0xe4613c47))\n",
    "#WSPR moves shift register LSB to MSB first (shift left), the reverse of our approach, so flip the polys around\n",
    "poly1.reverse()\n",
    "\n",
    "wspr_polynomials = [poly0, poly1]\n",
    "\n",
    "print wspr_polynomials"
   ]
  },
  {
   "cell_type": "code",
   "execution_count": 121,
   "metadata": {},
   "outputs": [
    {
     "name": "stdout",
     "output_type": "stream",
     "text": [
      "[1, 1, 0, 1, 0, 1, 0, 0, 0, 1, 0, 1, 0, 1, 1, 0, 0, 0, 1, 1, 0, 0, 1, 1, 1, 0, 1, 1, 1, 1, 1, 0, 1, 0, 1, 1, 1, 1, 1, 1, 0, 1, 1, 0, 0, 1, 0, 1, 1, 1, 0, 0, 0, 0, 1, 0, 1, 0, 0, 1, 0, 1, 1, 1, 1, 0, 1, 1, 0, 1, 0, 1, 0, 0, 1, 1, 0, 0, 1, 0, 0, 0, 1, 0, 1, 1, 0, 0, 1, 1, 1, 0, 0, 0, 0, 1, 0, 1, 1, 1, 0, 0, 1, 0, 1, 0, 1, 1, 1, 1, 1, 0, 1, 1, 1, 1, 0, 0, 1, 0, 0, 0, 1, 0, 1, 1, 0, 1, 1, 0, 1, 1, 0, 1, 1, 1, 0, 0, 1, 1, 1, 0, 1, 1, 0, 1, 1, 1, 0, 0, 0, 1, 0, 0, 1, 1, 1, 1, 0, 0, 0, 0]\n",
      "\n",
      "size: 162\n"
     ]
    }
   ],
   "source": [
    "convolvedmsg = encode(msg, wspr_polynomials)  #this is where all the work is done, using the two prev functions\n",
    "\n",
    "print convolvedmsg\n",
    "print\n",
    "print \"size: \" + str(len(convolvedmsg))"
   ]
  },
  {
   "cell_type": "markdown",
   "metadata": {},
   "source": [
    "## Interleave Bits (make more robust to noise that isn't randomly distributed)"
   ]
  },
  {
   "cell_type": "code",
   "execution_count": 122,
   "metadata": {},
   "outputs": [
    {
     "name": "stdout",
     "output_type": "stream",
     "text": [
      "[0, 128, 64, 192, 32, 160, 96, 224, 16, 144, 80, 208, 48, 176, 112, 240, 8, 136, 72, 200, 40, 168, 104, 232, 24, 152, 88, 216, 56, 184, 120, 248, 4, 132, 68, 196, 36, 164, 100, 228, 20, 148, 84, 212, 52, 180, 116, 244, 12, 140, 76, 204, 44, 172, 108, 236, 28, 156, 92, 220, 60, 188, 124, 252, 2, 130, 66, 194, 34, 162, 98, 226, 18, 146, 82, 210, 50, 178, 114, 242, 10, 138, 74, 202, 42, 170, 106, 234, 26, 154, 90, 218, 58, 186, 122, 250, 6, 134, 70, 198, 38, 166, 102, 230, 22, 150, 86, 214, 54, 182, 118, 246, 14, 142, 78, 206, 46, 174, 110, 238, 30, 158, 94, 222, 62, 190, 126, 254, 1, 129, 65, 193, 33, 161, 97, 225, 17, 145, 81, 209, 49, 177, 113, 241, 9, 137, 73, 201, 41, 169, 105, 233, 25, 153, 89, 217, 57, 185, 121, 249, 5, 133, 69, 197, 37, 165, 101, 229, 21, 149, 85, 213, 53, 181, 117, 245, 13, 141, 77, 205, 45, 173, 109, 237, 29, 157, 93, 221, 61, 189, 125, 253, 3, 131, 67, 195, 35, 163, 99, 227, 19, 147, 83, 211, 51, 179, 115, 243, 11, 139, 75, 203, 43, 171, 107, 235, 27, 155, 91, 219, 59, 187, 123, 251, 7, 135, 71, 199, 39, 167, 103, 231, 23, 151, 87, 215, 55, 183, 119, 247, 15, 143, 79, 207, 47, 175, 111, 239, 31, 159, 95, 223, 63, 191, 127, 255]\n"
     ]
    }
   ],
   "source": [
    "#permute the convolved message\n",
    "\n",
    "#generate the permuted index ordering\n",
    "permutedindex = []\n",
    "for i in range(0, 256):\n",
    "    #[::-1] is extended slice syntax to reverse string; int(str, 2) is binary string, base 2 to int\n",
    "    newlocation = int(\"{:08b}\".format(i)[::-1], 2)\n",
    "    permutedindex.append(newlocation)\n",
    "\n",
    "print permutedindex"
   ]
  },
  {
   "cell_type": "code",
   "execution_count": 123,
   "metadata": {},
   "outputs": [
    {
     "name": "stdout",
     "output_type": "stream",
     "text": [
      "[1, 0, 1, 1, 0, 1, 1, 1, 1, 0, 0, 0, 0, 1, 1, 0, 0, 0, 0, 1, 1, 1, 1, 1, 0, 1, 1, 0, 1, 0, 0, 1, 1, 1, 0, 1, 1, 0, 1, 1, 1, 1, 1, 1, 1, 1, 1, 1, 1, 1, 1, 1, 1, 1, 1, 0, 1, 0, 1, 1, 1, 0, 0, 0, 0, 0, 0, 1, 1, 1, 1, 0, 1, 0, 0, 1, 0, 1, 0, 1, 0, 1, 1, 0, 1, 1, 0, 0, 1, 1, 0, 1, 1, 0, 1, 0, 1, 0, 1, 0, 0, 1, 0, 1, 0, 0, 0, 0, 1, 0, 1, 1, 0, 0, 0, 1, 1, 0, 0, 1, 0, 0, 0, 0, 0, 0, 0, 0, 1, 1, 1, 0, 1, 0, 1, 1, 0, 0, 0, 1, 1, 1, 0, 0, 0, 1, 1, 1, 1, 1, 1, 0, 0, 1, 0, 1, 1, 1, 0, 0, 0, 1]\n",
      "\n",
      "size: 162\n"
     ]
    }
   ],
   "source": [
    "#use the permuted index to reorder the convolved message\n",
    "\n",
    "interleavedmsg = [None] * 162  #initialize a list of 162 elements (like an array initialization)\n",
    "\n",
    "nextconvolvedindex = 0\n",
    "for i in range(0, len(permutedindex)):\n",
    "    if permutedindex[i] < 162:\n",
    "        \n",
    "        interleavedmsg[permutedindex[i]] = convolvedmsg[nextconvolvedindex]\n",
    "        nextconvolvedindex += 1\n",
    "        \n",
    "print interleavedmsg\n",
    "print\n",
    "print \"size: \" + str(len(interleavedmsg))"
   ]
  },
  {
   "cell_type": "markdown",
   "metadata": {},
   "source": [
    "## Add a sync bit to produce symbols for 4FSK"
   ]
  },
  {
   "cell_type": "code",
   "execution_count": 124,
   "metadata": {},
   "outputs": [
    {
     "name": "stdout",
     "output_type": "stream",
     "text": [
      "This is what we will transmit:\n",
      "\n",
      "[3, 1, 2, 2, 0, 2, 2, 2, 3, 0, 0, 0, 1, 3, 3, 0, 0, 0, 1, 2, 2, 3, 2, 3, 1, 3, 3, 0, 2, 0, 0, 2, 2, 2, 1, 2, 2, 1, 2, 3, 2, 2, 2, 2, 2, 2, 3, 2, 3, 3, 2, 2, 3, 3, 2, 1, 2, 0, 2, 3, 3, 0, 1, 0, 0, 0, 0, 3, 3, 2, 3, 0, 3, 0, 1, 2, 1, 2, 0, 3, 0, 2, 3, 0, 3, 3, 0, 0, 2, 3, 1, 2, 3, 0, 3, 0, 2, 0, 3, 0, 0, 2, 0, 2, 1, 0, 0, 1, 2, 0, 3, 3, 1, 0, 1, 3, 2, 0, 1, 3, 0, 1, 0, 0, 0, 1, 1, 1, 2, 2, 2, 0, 2, 1, 2, 3, 0, 0, 1, 3, 2, 2, 0, 0, 0, 2, 2, 3, 3, 2, 3, 0, 1, 3, 0, 2, 2, 3, 1, 0, 0, 2]\n",
      "\n",
      "size: 162\n"
     ]
    }
   ],
   "source": [
    "#combine each item in the syncvector with each item in the interleavedmsg\n",
    "\n",
    "syncvector = [1,1,0,0,0,0,0,0,1,0,0,0,1,1,1,0,0,0,1,0,0,1,0,1,1,1,1,0,0,0,0,0,0,0,1,0,0,1,0,1,0,0,0,0,0,0,1,0,1,1,0,0,1,1,0,1,0,0,0,1,1,0,1,0,0,0,0,1,1,0,1,0,1,0,1,0,1,0,0,1,0,0,1,0,1,1,0,0,0,1,1,0,1,0,1,0,0,0,1,0,0,0,0,0,1,0,0,1,0,0,1,1,1,0,1,1,0,0,1,1,0,1,0,0,0,1,1,1,0,0,0,0,0,1,0,1,0,0,1,1,0,0,0,0,0,0,0,1,1,0,1,0,1,1,0,0,0,1,1,0,0,0]\n",
    "\n",
    "txmsg = []\n",
    "for i in range(0, len(syncvector)):\n",
    "    txmsg.append(syncvector[i] + (interleavedmsg[i] * 2))\n",
    "\n",
    "print \"This is what we will transmit:\"\n",
    "print\n",
    "print txmsg\n",
    "print\n",
    "print \"size: \" + str(len(txmsg))"
   ]
  },
  {
   "cell_type": "code",
   "execution_count": null,
   "metadata": {},
   "outputs": [],
   "source": []
  }
 ],
 "metadata": {
  "kernelspec": {
   "display_name": "Python 2",
   "language": "python",
   "name": "python2"
  },
  "language_info": {
   "codemirror_mode": {
    "name": "ipython",
    "version": 2
   },
   "file_extension": ".py",
   "mimetype": "text/x-python",
   "name": "python",
   "nbconvert_exporter": "python",
   "pygments_lexer": "ipython2",
   "version": "2.7.14"
  }
 },
 "nbformat": 4,
 "nbformat_minor": 2
}
