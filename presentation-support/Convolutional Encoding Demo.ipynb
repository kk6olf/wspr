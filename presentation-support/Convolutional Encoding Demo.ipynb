{
 "cells": [
  {
   "cell_type": "code",
   "execution_count": null,
   "metadata": {},
   "outputs": [],
   "source": [
    "from bitarray import bitarray\n",
    "\n",
    "#Generate all possible encoded output and the space of all possible received messages for input msgs of a given length\n",
    "\n",
    "#Jamie Taylor KK6OLF\n",
    "#January 2018\n",
    "\n",
    "#Released under CCO - have fun with it.\n",
    "#WSPR encoding in Python by Jamie Taylor\n",
    "#To the extent possible under law, the person who associated CC0 with\n",
    "#WSPR encoding in Python has waived all copyright and related or neighboring rights to WSPR encoding in Python.\n",
    "#You should have received a copy of the CC0 legalcode along with this work.  \n",
    "#If not, see <http://creativecommons.org/publicdomain/zero/1.0/>.\n",
    "\n",
    "msgbitlength = 2 #how many bits for the input message\n",
    "\n",
    "K = 3 #constraint length\n",
    "k = 1 #input bits...never used...assumed to be 1 in this demo\n",
    "r = 2 #parity bits\n",
    "\n",
    "#the taps in the convolution filter (i.e., the taps on the shift reg)\n",
    "polynomials = [bitarray(\"111\"),bitarray(\"101\")] "
   ]
  },
  {
   "cell_type": "code",
   "execution_count": 1,
   "metadata": {},
   "outputs": [],
   "source": [
    "#sanity check the parameters\n",
    "assert(len(polynomials) == r) #r must equal to the number of polynomials for parity bit generation\n",
    "\n",
    "for poly in polynomials:\n",
    "    assert(len(poly) == K) #the polynomials must be the same as the constraint length"
   ]
  },
  {
   "cell_type": "code",
   "execution_count": 2,
   "metadata": {},
   "outputs": [],
   "source": [
    "def paritybits(polylist, shiftreg):\n",
    "    parity = []\n",
    "    \n",
    "    for poly in polylist:\n",
    "        tmpreg = shiftreg & poly #for each tap, see if there is a bit set in the shift register\n",
    "        p = int(tmpreg.count(1) % 2) #modulo2 addition of the tap values (number of set bits mod 2)\n",
    "        parity.append(p)\n",
    "        \n",
    "    return parity #return as many parity bits as there are polynomials describing the shiftreg taps"
   ]
  },
  {
   "cell_type": "code",
   "execution_count": 3,
   "metadata": {},
   "outputs": [],
   "source": [
    "def encode(message, polylist):\n",
    "    \n",
    "    constraint_length = polylist[0].length()\n",
    "    #create a shift register K in size, initialize to all zeros\n",
    "    sr = bitarray(str(\"{:0\"+str(constraint_length)+\"b}\").format(0))\n",
    "\n",
    "    output = []\n",
    "    \n",
    "    #push each message bit into the shift register and generate parity bits\n",
    "    for i in range(0, len(message)):\n",
    "        #move the shift register one bit to the right\n",
    "        for s in range(len(sr)-1, 0, -1):\n",
    "            sr[s] = sr[s-1]\n",
    "        #shift the next message bit into the shift register\n",
    "        sr[0] = message[i]\n",
    "        #print sr.to01()\n",
    "        \n",
    "        #generate the convolutional parity bits for this bit\n",
    "        output.extend(paritybits(polylist, sr))\n",
    "    return output"
   ]
  },
  {
   "cell_type": "code",
   "execution_count": 12,
   "metadata": {},
   "outputs": [
    {
     "name": "stdout",
     "output_type": "stream",
     "text": [
      "\n",
      "all possible input and output for input messages of length 2\n",
      "\n",
      "in\tout\n",
      "\n",
      "00\t0000\n",
      "01\t0011\n",
      "10\t1110\n",
      "11\t1101\n"
     ]
    }
   ],
   "source": [
    "#for all possible messages of msgbitlength geneate the encoded output bits (forget tail bits)\n",
    "\n",
    "numpossiblemsgs = 2**msgbitlength\n",
    "\n",
    "print \"\"\n",
    "print \"all possible input and output for input messages of length \" + str(msgbitlength)\n",
    "print \"\"\n",
    "print \"in\\tout\"\n",
    "print \"\"\n",
    "\n",
    "for i in range(0, numpossiblemsgs):\n",
    "    msg = bitarray(str(\"{:0\"+str(msgbitlength)+\"b}\").format(i))\n",
    "    out = encode(msg, polynomials)\n",
    "    print msg.to01() + \"\\t\" + ''.join(str(x) for x in out)"
   ]
  },
  {
   "cell_type": "code",
   "execution_count": 13,
   "metadata": {},
   "outputs": [
    {
     "name": "stdout",
     "output_type": "stream",
     "text": [
      "\n",
      "all possible receive messages of length 4\n",
      "\n",
      "0000\n",
      "0001\n",
      "0010\n",
      "0011\n",
      "0100\n",
      "0101\n",
      "0110\n",
      "0111\n",
      "1000\n",
      "1001\n",
      "1010\n",
      "1011\n",
      "1100\n",
      "1101\n",
      "1110\n",
      "1111\n"
     ]
    }
   ],
   "source": [
    "#generate the list of all possible bit sequences that might be received for msgs of msgbitlength\n",
    "\n",
    "#number of bits in encoded output is (msgbitlength * r) because we always assumed k to be 1 in our implementation\n",
    "outputbits = msgbitlength * r\n",
    "\n",
    "#how big is the space of possible received messages\n",
    "outputspace = 2**outputbits\n",
    "\n",
    "print \"\"\n",
    "print \"all possible receive messages of length \" + str(outputbits)\n",
    "print \"\"\n",
    "\n",
    "for i in range(0, outputspace):\n",
    "    print str(\"{:0\"+str(outputbits)+\"b}\").format(i)"
   ]
  },
  {
   "cell_type": "code",
   "execution_count": null,
   "metadata": {},
   "outputs": [],
   "source": []
  }
 ],
 "metadata": {
  "kernelspec": {
   "display_name": "Python 2",
   "language": "python",
   "name": "python2"
  },
  "language_info": {
   "codemirror_mode": {
    "name": "ipython",
    "version": 2
   },
   "file_extension": ".py",
   "mimetype": "text/x-python",
   "name": "python",
   "nbconvert_exporter": "python",
   "pygments_lexer": "ipython2",
   "version": "2.7.14"
  }
 },
 "nbformat": 4,
 "nbformat_minor": 2
}
