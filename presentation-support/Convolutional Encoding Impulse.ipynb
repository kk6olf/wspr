{
 "cells": [
  {
   "cell_type": "code",
   "execution_count": 7,
   "metadata": {},
   "outputs": [],
   "source": [
    "from bitarray import bitarray\n",
    "\n",
    "#Show the progression of a convolutional shift register and the parity bits generated in each state\n",
    "\n",
    "#Jamie Taylor KK6OLF\n",
    "#January 2018\n",
    "\n",
    "#Released under CCO - have fun with it.\n",
    "#WSPR encoding in Python by Jamie Taylor\n",
    "#To the extent possible under law, the person who associated CC0 with\n",
    "#WSPR encoding in Python has waived all copyright and related or neighboring rights to WSPR encoding in Python.\n",
    "#You should have received a copy of the CC0 legalcode along with this work.  \n",
    "#If not, see <http://creativecommons.org/publicdomain/zero/1.0/>.\n",
    "\n",
    "K = 3 #constraint length\n",
    "k = 1 #input bits...never used...assumed to be 1 in this demo\n",
    "r = 2 #parity bits\n",
    "\n",
    "#the taps in the convolution filter (i.e., the taps on the shift reg)\n",
    "polynomials = [bitarray(\"111\"),bitarray(\"101\")] \n",
    "\n",
    "#sanity check the parameters\n",
    "assert(len(polynomials) == r) #r must equal to the number of polynomials for parity bit generation\n",
    "\n",
    "for poly in polynomials:\n",
    "    assert(len(poly) == K) #the polynomials must be the same as the constraint length"
   ]
  },
  {
   "cell_type": "code",
   "execution_count": 8,
   "metadata": {},
   "outputs": [],
   "source": [
    "def paritybits(polylist, shiftreg):\n",
    "    parity = []\n",
    "    \n",
    "    for poly in polylist:\n",
    "        tmpreg = shiftreg & poly #for each tap, see if there is a bit set in the shift register\n",
    "        p = int(tmpreg.count(1) % 2) #modulo2 addition of the tap values (number of set bits mod 2)\n",
    "        parity.append(p)\n",
    "        \n",
    "    return parity #return as many parity bits as there are polynomials describing the shiftreg taps"
   ]
  },
  {
   "cell_type": "code",
   "execution_count": 9,
   "metadata": {},
   "outputs": [
    {
     "name": "stdout",
     "output_type": "stream",
     "text": [
      "\n",
      "shift reg state: 100\n",
      "partity bits for this state: [1, 1]\n",
      "\n",
      "shift reg state: 010\n",
      "partity bits for this state: [1, 0]\n",
      "\n",
      "shift reg state: 001\n",
      "partity bits for this state: [1, 1]\n",
      "\n",
      "final encoded message:\n",
      "[1, 1, 1, 0, 1, 1]\n"
     ]
    }
   ],
   "source": [
    "def encode(message, polylist):\n",
    "    \n",
    "    constraint_length = polylist[0].length()\n",
    "    #create a shift register K in size, initialize to all zeros\n",
    "    sr = bitarray(str(\"{:0\"+str(constraint_length)+\"b}\").format(0))\n",
    "    \n",
    "    output = []\n",
    "    \n",
    "    #push each message bit into the shift register and generate parity bits\n",
    "    for i in range(0, len(message)):\n",
    "        \n",
    "        #move the shift register one bit to the right\n",
    "        for s in range(len(sr)-1, 0, -1):\n",
    "            sr[s] = sr[s-1]\n",
    "            \n",
    "        #shift the next message bit into the shift register\n",
    "        sr[0] = message[i]\n",
    "        \n",
    "        #capture intermediate values for demonstration purposes\n",
    "        print \"\"\n",
    "        print \"shift reg state: \" + str(sr.to01())\n",
    "        print \"partity bits for this state: \" + str(paritybits(polylist, sr))\n",
    "        \n",
    "        #generate the convolutional parity bits for this bit\n",
    "        output.extend(paritybits(polylist, sr))\n",
    "        \n",
    "    return output\n",
    "\n",
    "#this message shows the convolutional filters \"impulse response to '1'\"\n",
    "inputmessage = bitarray(\"100\")\n",
    "\n",
    "tx_message = encode(inputmessage, polynomials)\n",
    "\n",
    "print \"\"\n",
    "print \"final encoded message:\"\n",
    "print tx_message"
   ]
  },
  {
   "cell_type": "code",
   "execution_count": null,
   "metadata": {},
   "outputs": [],
   "source": []
  }
 ],
 "metadata": {
  "kernelspec": {
   "display_name": "Python 2",
   "language": "python",
   "name": "python2"
  },
  "language_info": {
   "codemirror_mode": {
    "name": "ipython",
    "version": 2
   },
   "file_extension": ".py",
   "mimetype": "text/x-python",
   "name": "python",
   "nbconvert_exporter": "python",
   "pygments_lexer": "ipython2",
   "version": "2.7.14"
  }
 },
 "nbformat": 4,
 "nbformat_minor": 2
}
