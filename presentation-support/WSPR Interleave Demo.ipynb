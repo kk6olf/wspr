{
 "cells": [
  {
   "cell_type": "code",
   "execution_count": null,
   "metadata": {},
   "outputs": [],
   "source": [
    "from IPython.core.display import display, HTML\n",
    "from colour import Color #used to generate color gradient array (pip install colour)"
   ]
  },
  {
   "cell_type": "code",
   "execution_count": 85,
   "metadata": {},
   "outputs": [],
   "source": [
    "#create an array of 162 color values from Red to Green\n",
    "red = Color(\"red\")\n",
    "colors = list(red.range_to(Color(\"green\"),162))"
   ]
  },
  {
   "cell_type": "code",
   "execution_count": 86,
   "metadata": {},
   "outputs": [
    {
     "data": {
      "text/html": [
       "<table cellspacing=\"0\" cellpadding=\"0\"><tr><td width=\"1\" bgcolor=red></td><td width=\"1\" bgcolor=#fe0300></td><td width=\"1\" bgcolor=#fd0600></td><td width=\"1\" bgcolor=#fd0900></td><td width=\"1\" bgcolor=#fc0d00></td><td width=\"1\" bgcolor=#fb1000></td><td width=\"1\" bgcolor=#fa1300></td><td width=\"1\" bgcolor=#f91600></td><td width=\"1\" bgcolor=#f91900></td><td width=\"1\" bgcolor=#f81c00></td><td width=\"1\" bgcolor=#f71f00></td><td width=\"1\" bgcolor=#f62200></td><td width=\"1\" bgcolor=#f62500></td><td width=\"1\" bgcolor=#f52800></td><td width=\"1\" bgcolor=#f42a00></td><td width=\"1\" bgcolor=#f32d00></td><td width=\"1\" bgcolor=#f23000></td><td width=\"1\" bgcolor=#f23300></td><td width=\"1\" bgcolor=#f13600></td><td width=\"1\" bgcolor=#f03900></td><td width=\"1\" bgcolor=#ef3b00></td><td width=\"1\" bgcolor=#ee3e00></td><td width=\"1\" bgcolor=#ee4100></td><td width=\"1\" bgcolor=#ed4400></td><td width=\"1\" bgcolor=#ec4600></td><td width=\"1\" bgcolor=#eb4900></td><td width=\"1\" bgcolor=#ea4c00></td><td width=\"1\" bgcolor=#ea4e00></td><td width=\"1\" bgcolor=#e95100></td><td width=\"1\" bgcolor=#e85400></td><td width=\"1\" bgcolor=#e75600></td><td width=\"1\" bgcolor=#e75900></td><td width=\"1\" bgcolor=#e65b00></td><td width=\"1\" bgcolor=#e55e00></td><td width=\"1\" bgcolor=#e46000></td><td width=\"1\" bgcolor=#e36300></td><td width=\"1\" bgcolor=#e36500></td><td width=\"1\" bgcolor=#e26800></td><td width=\"1\" bgcolor=#e16a00></td><td width=\"1\" bgcolor=#e06d00></td><td width=\"1\" bgcolor=#df6f00></td><td width=\"1\" bgcolor=#df7100></td><td width=\"1\" bgcolor=#de7400></td><td width=\"1\" bgcolor=#dd7600></td><td width=\"1\" bgcolor=#dc7800></td><td width=\"1\" bgcolor=#dc7b00></td><td width=\"1\" bgcolor=#db7d00></td><td width=\"1\" bgcolor=#da7f00></td><td width=\"1\" bgcolor=#d98100></td><td width=\"1\" bgcolor=#d88400></td><td width=\"1\" bgcolor=#d88600></td><td width=\"1\" bgcolor=#d78800></td><td width=\"1\" bgcolor=#d68a00></td><td width=\"1\" bgcolor=#d58c00></td><td width=\"1\" bgcolor=#d48e00></td><td width=\"1\" bgcolor=#d49100></td><td width=\"1\" bgcolor=#d39300></td><td width=\"1\" bgcolor=#d29500></td><td width=\"1\" bgcolor=#d19700></td><td width=\"1\" bgcolor=#d09900></td><td width=\"1\" bgcolor=#d09b00></td><td width=\"1\" bgcolor=#cf9d00></td><td width=\"1\" bgcolor=#ce9f00></td><td width=\"1\" bgcolor=#cda100></td><td width=\"1\" bgcolor=#cda300></td><td width=\"1\" bgcolor=#cca400></td><td width=\"1\" bgcolor=#cba600></td><td width=\"1\" bgcolor=#caa800></td><td width=\"1\" bgcolor=#c9aa00></td><td width=\"1\" bgcolor=#c9ac00></td><td width=\"1\" bgcolor=#c8ae00></td><td width=\"1\" bgcolor=#c7b000></td><td width=\"1\" bgcolor=#c6b100></td><td width=\"1\" bgcolor=#c5b300></td><td width=\"1\" bgcolor=#c5b500></td><td width=\"1\" bgcolor=#c4b600></td><td width=\"1\" bgcolor=#c3b800></td><td width=\"1\" bgcolor=#c2ba00></td><td width=\"1\" bgcolor=#c1bb00></td><td width=\"1\" bgcolor=#c1bd00></td><td width=\"1\" bgcolor=#c0bf00></td><td width=\"1\" bgcolor=#bebf00></td><td width=\"1\" bgcolor=#bbbe00></td><td width=\"1\" bgcolor=#b8be00></td><td width=\"1\" bgcolor=#b5bd00></td><td width=\"1\" bgcolor=#b1bc00></td><td width=\"1\" bgcolor=#aebb00></td><td width=\"1\" bgcolor=#abba00></td><td width=\"1\" bgcolor=#a8ba00></td><td width=\"1\" bgcolor=#a5b900></td><td width=\"1\" bgcolor=#a2b800></td><td width=\"1\" bgcolor=#9fb700></td><td width=\"1\" bgcolor=#9cb600></td><td width=\"1\" bgcolor=#99b600></td><td width=\"1\" bgcolor=#97b500></td><td width=\"1\" bgcolor=#94b400></td><td width=\"1\" bgcolor=#91b300></td><td width=\"1\" bgcolor=#8eb200></td><td width=\"1\" bgcolor=#8bb200></td><td width=\"1\" bgcolor=#88b100></td><td width=\"1\" bgcolor=#85b000></td><td width=\"1\" bgcolor=#83af00></td><td width=\"1\" bgcolor=#80af00></td><td width=\"1\" bgcolor=#7dae00></td><td width=\"1\" bgcolor=#7aad00></td><td width=\"1\" bgcolor=#78ac00></td><td width=\"1\" bgcolor=#75ab00></td><td width=\"1\" bgcolor=#72ab00></td><td width=\"1\" bgcolor=#70aa00></td><td width=\"1\" bgcolor=#6da900></td><td width=\"1\" bgcolor=#6ba800></td><td width=\"1\" bgcolor=#68a700></td><td width=\"1\" bgcolor=#65a700></td><td width=\"1\" bgcolor=#63a600></td><td width=\"1\" bgcolor=#60a500></td><td width=\"1\" bgcolor=#5ea400></td><td width=\"1\" bgcolor=#5ba300></td><td width=\"1\" bgcolor=#59a300></td><td width=\"1\" bgcolor=#56a200></td><td width=\"1\" bgcolor=#54a100></td><td width=\"1\" bgcolor=#52a000></td><td width=\"1\" bgcolor=#4fa000></td><td width=\"1\" bgcolor=#4d9f00></td><td width=\"1\" bgcolor=#4b9e00></td><td width=\"1\" bgcolor=#489d00></td><td width=\"1\" bgcolor=#469c00></td><td width=\"1\" bgcolor=#449c00></td><td width=\"1\" bgcolor=#419b00></td><td width=\"1\" bgcolor=#3f9a00></td><td width=\"1\" bgcolor=#3d9900></td><td width=\"1\" bgcolor=#3b9800></td><td width=\"1\" bgcolor=#399800></td><td width=\"1\" bgcolor=#369700></td><td width=\"1\" bgcolor=#349600></td><td width=\"1\" bgcolor=#329500></td><td width=\"1\" bgcolor=#309500></td><td width=\"1\" bgcolor=#2e9400></td><td width=\"1\" bgcolor=#2c9300></td><td width=\"1\" bgcolor=#2a9200></td><td width=\"1\" bgcolor=#289100></td><td width=\"1\" bgcolor=#269100></td><td width=\"1\" bgcolor=#249000></td><td width=\"1\" bgcolor=#228f00></td><td width=\"1\" bgcolor=#208e00></td><td width=\"1\" bgcolor=#1e8d00></td><td width=\"1\" bgcolor=#1c8d00></td><td width=\"1\" bgcolor=#1a8c00></td><td width=\"1\" bgcolor=#188b00></td><td width=\"1\" bgcolor=#168a00></td><td width=\"1\" bgcolor=#148900></td><td width=\"1\" bgcolor=#138900></td><td width=\"1\" bgcolor=#180></td><td width=\"1\" bgcolor=#0f8700></td><td width=\"1\" bgcolor=#0d8600></td><td width=\"1\" bgcolor=#0c8600></td><td width=\"1\" bgcolor=#0a8500></td><td width=\"1\" bgcolor=#088400></td><td width=\"1\" bgcolor=#078300></td><td width=\"1\" bgcolor=#058200></td><td width=\"1\" bgcolor=#038200></td><td width=\"1\" bgcolor=#028100></td><td width=\"1\" bgcolor=green></td></tr></table>"
      ],
      "text/plain": [
       "<IPython.core.display.HTML object>"
      ]
     },
     "metadata": {},
     "output_type": "display_data"
    }
   ],
   "source": [
    "#create an HTML table with color gradient indicating cell position\n",
    "cellinfo = {}\n",
    "output = \"<table cellspacing=\\\"0\\\" cellpadding=\\\"0\\\"><tr>\"\n",
    "for i in range(0, 162):\n",
    "    gradient = colors[i]\n",
    "    cellinfo[i] = {\"color\":str(gradient), \"label\":str(i)}\n",
    "    output += \"<td width=\\\"1\\\" bgcolor=\" + cellinfo[i][\"color\"] + \">\"  + \"</td>\"\n",
    "output += \"</tr></table>\"\n",
    "\n",
    "display(HTML(output))"
   ]
  },
  {
   "cell_type": "code",
   "execution_count": 103,
   "metadata": {},
   "outputs": [
    {
     "data": {
      "text/html": [
       "<table cellspacing=\"0\" cellpadding=\"0\" style='font-size:40'><tr><td height=\"50\"  bgcolor=red>0</td><td height=\"50\"  bgcolor=#fe0300>1</td><td height=\"50\"  bgcolor=#fd0600>2</td><td height=\"50\"  bgcolor=#fd0900>3</td><td height=\"50\"  bgcolor=#fc0d00>4</td><td height=\"50\"  bgcolor=#fb1000>5</td><td height=\"50\"  bgcolor=#fa1300>6</td><td height=\"50\"  bgcolor=#f91600>7</td><td height=\"50\"  bgcolor=#f91900>8</td><td height=\"50\"  bgcolor=#f81c00>9</td><td height=\"50\"  bgcolor=#f71f00>10</td><td height=\"50\"  bgcolor=#f62200>11</td><td height=\"50\"  bgcolor=#f62500>12</td><td height=\"50\"  bgcolor=#f52800>13</td><td height=\"50\"  bgcolor=#f42a00>14</td><td height=\"50\"  bgcolor=#f32d00>15</td><td height=\"50\"  bgcolor=#f23000>16</td><td height=\"50\"  bgcolor=#f23300>17</td><td height=\"50\"  bgcolor=#f13600>18</td><td height=\"50\"  bgcolor=#f03900>19</td><td height=\"50\"  bgcolor=#ef3b00>20</td><td height=\"50\"  bgcolor=#ee3e00>21</td><td height=\"50\"  bgcolor=#ee4100>22</td><td height=\"50\"  bgcolor=#ed4400>23</td><td height=\"50\"  bgcolor=#ec4600>24</td><td height=\"50\"  bgcolor=#eb4900>25</td><td height=\"50\"  bgcolor=#ea4c00>26</td><td height=\"50\"  bgcolor=#ea4e00>27</td><td height=\"50\"  bgcolor=#e95100>28</td><td height=\"50\"  bgcolor=#e85400>29</td><td height=\"50\"  bgcolor=#e75600>30</td><td height=\"50\"  bgcolor=#e75900>31</td><td height=\"50\"  bgcolor=#e65b00>32</td><td height=\"50\"  bgcolor=#e55e00>33</td><td height=\"50\"  bgcolor=#e46000>34</td><td height=\"50\"  bgcolor=#e36300>35</td><td height=\"50\"  bgcolor=#e36500>36</td><td height=\"50\"  bgcolor=#e26800>37</td><td height=\"50\"  bgcolor=#e16a00>38</td><td height=\"50\"  bgcolor=#e06d00>39</td><td height=\"50\"  bgcolor=#df6f00>40</td><td height=\"50\"  bgcolor=#df7100>41</td><td height=\"50\"  bgcolor=#de7400>42</td><td height=\"50\"  bgcolor=#dd7600>43</td><td height=\"50\"  bgcolor=#dc7800>44</td><td height=\"50\"  bgcolor=#dc7b00>45</td><td height=\"50\"  bgcolor=#db7d00>46</td><td height=\"50\"  bgcolor=#da7f00>47</td><td height=\"50\"  bgcolor=#d98100>48</td><td height=\"50\"  bgcolor=#d88400>49</td><td height=\"50\"  bgcolor=#d88600>50</td><td height=\"50\"  bgcolor=#d78800>51</td><td height=\"50\"  bgcolor=#d68a00>52</td><td height=\"50\"  bgcolor=#d58c00>53</td><td height=\"50\"  bgcolor=#d48e00>54</td><td height=\"50\"  bgcolor=#d49100>55</td><td height=\"50\"  bgcolor=#d39300>56</td><td height=\"50\"  bgcolor=#d29500>57</td><td height=\"50\"  bgcolor=#d19700>58</td><td height=\"50\"  bgcolor=#d09900>59</td><td height=\"50\"  bgcolor=#d09b00>60</td><td height=\"50\"  bgcolor=#cf9d00>61</td><td height=\"50\"  bgcolor=#ce9f00>62</td><td height=\"50\"  bgcolor=#cda100>63</td><td height=\"50\"  bgcolor=#cda300>64</td><td height=\"50\"  bgcolor=#cca400>65</td><td height=\"50\"  bgcolor=#cba600>66</td><td height=\"50\"  bgcolor=#caa800>67</td><td height=\"50\"  bgcolor=#c9aa00>68</td><td height=\"50\"  bgcolor=#c9ac00>69</td><td height=\"50\"  bgcolor=#c8ae00>70</td><td height=\"50\"  bgcolor=#c7b000>71</td><td height=\"50\"  bgcolor=#c6b100>72</td><td height=\"50\"  bgcolor=#c5b300>73</td><td height=\"50\"  bgcolor=#c5b500>74</td><td height=\"50\"  bgcolor=#c4b600>75</td><td height=\"50\"  bgcolor=#c3b800>76</td><td height=\"50\"  bgcolor=#c2ba00>77</td><td height=\"50\"  bgcolor=#c1bb00>78</td><td height=\"50\"  bgcolor=#c1bd00>79</td><td height=\"50\"  bgcolor=#c0bf00>80</td><td height=\"50\"  bgcolor=#bebf00>81</td><td height=\"50\"  bgcolor=#bbbe00>82</td><td height=\"50\"  bgcolor=#b8be00>83</td><td height=\"50\"  bgcolor=#b5bd00>84</td><td height=\"50\"  bgcolor=#b1bc00>85</td><td height=\"50\"  bgcolor=#aebb00>86</td><td height=\"50\"  bgcolor=#abba00>87</td><td height=\"50\"  bgcolor=#a8ba00>88</td><td height=\"50\"  bgcolor=#a5b900>89</td><td height=\"50\"  bgcolor=#a2b800>90</td><td height=\"50\"  bgcolor=#9fb700>91</td><td height=\"50\"  bgcolor=#9cb600>92</td><td height=\"50\"  bgcolor=#99b600>93</td><td height=\"50\"  bgcolor=#97b500>94</td><td height=\"50\"  bgcolor=#94b400>95</td><td height=\"50\"  bgcolor=#91b300>96</td><td height=\"50\"  bgcolor=#8eb200>97</td><td height=\"50\"  bgcolor=#8bb200>98</td><td height=\"50\"  bgcolor=#88b100>99</td><td height=\"50\"  bgcolor=#85b000>100</td><td height=\"50\"  bgcolor=#83af00>101</td><td height=\"50\"  bgcolor=#80af00>102</td><td height=\"50\"  bgcolor=#7dae00>103</td><td height=\"50\"  bgcolor=#7aad00>104</td><td height=\"50\"  bgcolor=#78ac00>105</td><td height=\"50\"  bgcolor=#75ab00>106</td><td height=\"50\"  bgcolor=#72ab00>107</td><td height=\"50\"  bgcolor=#70aa00>108</td><td height=\"50\"  bgcolor=#6da900>109</td><td height=\"50\"  bgcolor=#6ba800>110</td><td height=\"50\"  bgcolor=#68a700>111</td><td height=\"50\"  bgcolor=#65a700>112</td><td height=\"50\"  bgcolor=#63a600>113</td><td height=\"50\"  bgcolor=#60a500>114</td><td height=\"50\"  bgcolor=#5ea400>115</td><td height=\"50\"  bgcolor=#5ba300>116</td><td height=\"50\"  bgcolor=#59a300>117</td><td height=\"50\"  bgcolor=#56a200>118</td><td height=\"50\"  bgcolor=#54a100>119</td><td height=\"50\"  bgcolor=#52a000>120</td><td height=\"50\"  bgcolor=#4fa000>121</td><td height=\"50\"  bgcolor=#4d9f00>122</td><td height=\"50\"  bgcolor=#4b9e00>123</td><td height=\"50\"  bgcolor=#489d00>124</td><td height=\"50\"  bgcolor=#469c00>125</td><td height=\"50\"  bgcolor=#449c00>126</td><td height=\"50\"  bgcolor=#419b00>127</td><td height=\"50\"  bgcolor=#3f9a00>128</td><td height=\"50\"  bgcolor=#3d9900>129</td><td height=\"50\"  bgcolor=#3b9800>130</td><td height=\"50\"  bgcolor=#399800>131</td><td height=\"50\"  bgcolor=#369700>132</td><td height=\"50\"  bgcolor=#349600>133</td><td height=\"50\"  bgcolor=#329500>134</td><td height=\"50\"  bgcolor=#309500>135</td><td height=\"50\"  bgcolor=#2e9400>136</td><td height=\"50\"  bgcolor=#2c9300>137</td><td height=\"50\"  bgcolor=#2a9200>138</td><td height=\"50\"  bgcolor=#289100>139</td><td height=\"50\"  bgcolor=#269100>140</td><td height=\"50\"  bgcolor=#249000>141</td><td height=\"50\"  bgcolor=#228f00>142</td><td height=\"50\"  bgcolor=#208e00>143</td><td height=\"50\"  bgcolor=#1e8d00>144</td><td height=\"50\"  bgcolor=#1c8d00>145</td><td height=\"50\"  bgcolor=#1a8c00>146</td><td height=\"50\"  bgcolor=#188b00>147</td><td height=\"50\"  bgcolor=#168a00>148</td><td height=\"50\"  bgcolor=#148900>149</td><td height=\"50\"  bgcolor=#138900>150</td><td height=\"50\"  bgcolor=#180>151</td><td height=\"50\"  bgcolor=#0f8700>152</td><td height=\"50\"  bgcolor=#0d8600>153</td><td height=\"50\"  bgcolor=#0c8600>154</td><td height=\"50\"  bgcolor=#0a8500>155</td><td height=\"50\"  bgcolor=#088400>156</td><td height=\"50\"  bgcolor=#078300>157</td><td height=\"50\"  bgcolor=#058200>158</td><td height=\"50\"  bgcolor=#038200>159</td><td height=\"50\"  bgcolor=#028100>160</td><td height=\"50\"  bgcolor=green>161</td></tr></table>"
      ],
      "text/plain": [
       "<IPython.core.display.HTML object>"
      ]
     },
     "metadata": {},
     "output_type": "display_data"
    }
   ],
   "source": [
    "#create an HTML table with color gradient indicating cell position - but add the cell position number\n",
    "cellinfo = {}\n",
    "output = \"<table cellspacing=\\\"0\\\" cellpadding=\\\"0\\\" style=\\'font-size:40\\'><tr>\"\n",
    "for i in range(0, 162):\n",
    "    gradient = colors[i]\n",
    "    cellinfo[i] = {\"color\":str(gradient), \"label\":str(i)}\n",
    "    output += \"<td height=\\\"50\\\"  bgcolor=\" + cellinfo[i][\"color\"] + \">\" + str(cellinfo[i][\"label\"]) + \"</td>\"\n",
    "output += \"</tr></table>\"\n",
    "\n",
    "display(HTML(output))"
   ]
  },
  {
   "cell_type": "code",
   "execution_count": 88,
   "metadata": {},
   "outputs": [
    {
     "name": "stdout",
     "output_type": "stream",
     "text": [
      "[0, 128, 64, 192, 32, 160, 96, 224, 16, 144, 80, 208, 48, 176, 112, 240, 8, 136, 72, 200, 40, 168, 104, 232, 24, 152, 88, 216, 56, 184, 120, 248, 4, 132, 68, 196, 36, 164, 100, 228, 20, 148, 84, 212, 52, 180, 116, 244, 12, 140, 76, 204, 44, 172, 108, 236, 28, 156, 92, 220, 60, 188, 124, 252, 2, 130, 66, 194, 34, 162, 98, 226, 18, 146, 82, 210, 50, 178, 114, 242, 10, 138, 74, 202, 42, 170, 106, 234, 26, 154, 90, 218, 58, 186, 122, 250, 6, 134, 70, 198, 38, 166, 102, 230, 22, 150, 86, 214, 54, 182, 118, 246, 14, 142, 78, 206, 46, 174, 110, 238, 30, 158, 94, 222, 62, 190, 126, 254, 1, 129, 65, 193, 33, 161, 97, 225, 17, 145, 81, 209, 49, 177, 113, 241, 9, 137, 73, 201, 41, 169, 105, 233, 25, 153, 89, 217, 57, 185, 121, 249, 5, 133, 69, 197, 37, 165, 101, 229, 21, 149, 85, 213, 53, 181, 117, 245, 13, 141, 77, 205, 45, 173, 109, 237, 29, 157, 93, 221, 61, 189, 125, 253, 3, 131, 67, 195, 35, 163, 99, 227, 19, 147, 83, 211, 51, 179, 115, 243, 11, 139, 75, 203, 43, 171, 107, 235, 27, 155, 91, 219, 59, 187, 123, 251, 7, 135, 71, 199, 39, 167, 103, 231, 23, 151, 87, 215, 55, 183, 119, 247, 15, 143, 79, 207, 47, 175, 111, 239, 31, 159, 95, 223, 63, 191, 127, 255]\n"
     ]
    }
   ],
   "source": [
    "#create an array indicating how the WSPR transmission bits are interleaved\n",
    "\n",
    "permutedarray = []\n",
    "for i in range(0, 256):\n",
    "    #[::-1] is extended slice syntax to reverse string; int(str, 2) is binary string, base 2 to int\n",
    "    newlocation = int(\"{:08b}\".format(i)[::-1], 2)\n",
    "    permutedarray.append( newlocation )\n",
    "\n",
    "print permutedarray"
   ]
  },
  {
   "cell_type": "code",
   "execution_count": 89,
   "metadata": {},
   "outputs": [
    {
     "data": {
      "text/html": [
       "<table cellspacing=\"0\" cellpadding=\"0\"><tr><td width=\"1\" bgcolor=red></td><td width=\"1\" bgcolor=#3f9a00></td><td width=\"1\" bgcolor=#cda300></td><td width=\"1\" bgcolor=#e65b00></td><td width=\"1\" bgcolor=#028100></td><td width=\"1\" bgcolor=#91b300></td><td width=\"1\" bgcolor=#f23000></td><td width=\"1\" bgcolor=#1e8d00></td><td width=\"1\" bgcolor=#c0bf00></td><td width=\"1\" bgcolor=#d98100></td><td width=\"1\" bgcolor=#65a700></td><td width=\"1\" bgcolor=#f91900></td><td width=\"1\" bgcolor=#2e9400></td><td width=\"1\" bgcolor=#c6b100></td><td width=\"1\" bgcolor=#df6f00></td><td width=\"1\" bgcolor=#7aad00></td><td width=\"1\" bgcolor=#ec4600></td><td width=\"1\" bgcolor=#0f8700></td><td width=\"1\" bgcolor=#a8ba00></td><td width=\"1\" bgcolor=#d39300></td><td width=\"1\" bgcolor=#52a000></td><td width=\"1\" bgcolor=#fc0d00></td><td width=\"1\" bgcolor=#369700></td><td width=\"1\" bgcolor=#c9aa00></td><td width=\"1\" bgcolor=#e36500></td><td width=\"1\" bgcolor=#85b000></td><td width=\"1\" bgcolor=#ef3b00></td><td width=\"1\" bgcolor=#168a00></td><td width=\"1\" bgcolor=#b5bd00></td><td width=\"1\" bgcolor=#d68a00></td><td width=\"1\" bgcolor=#5ba300></td><td width=\"1\" bgcolor=#f62500></td><td width=\"1\" bgcolor=#269100></td><td width=\"1\" bgcolor=#c3b800></td><td width=\"1\" bgcolor=#dc7800></td><td width=\"1\" bgcolor=#70aa00></td><td width=\"1\" bgcolor=#e95100></td><td width=\"1\" bgcolor=#088400></td><td width=\"1\" bgcolor=#9cb600></td><td width=\"1\" bgcolor=#d09b00></td><td width=\"1\" bgcolor=#489d00></td><td width=\"1\" bgcolor=#fd0600></td><td width=\"1\" bgcolor=#3b9800></td><td width=\"1\" bgcolor=#cba600></td><td width=\"1\" bgcolor=#e46000></td><td width=\"1\" bgcolor=#8bb200></td><td width=\"1\" bgcolor=#f13600></td><td width=\"1\" bgcolor=#1a8c00></td><td width=\"1\" bgcolor=#bbbe00></td><td width=\"1\" bgcolor=#d88600></td><td width=\"1\" bgcolor=#60a500></td><td width=\"1\" bgcolor=#f71f00></td><td width=\"1\" bgcolor=#2a9200></td><td width=\"1\" bgcolor=#c5b500></td><td width=\"1\" bgcolor=#de7400></td><td width=\"1\" bgcolor=#75ab00></td><td width=\"1\" bgcolor=#ea4c00></td><td width=\"1\" bgcolor=#0c8600></td><td width=\"1\" bgcolor=#a2b800></td><td width=\"1\" bgcolor=#d19700></td><td width=\"1\" bgcolor=#4d9f00></td><td width=\"1\" bgcolor=#fa1300></td><td width=\"1\" bgcolor=#329500></td><td width=\"1\" bgcolor=#c8ae00></td><td width=\"1\" bgcolor=#e16a00></td><td width=\"1\" bgcolor=#80af00></td><td width=\"1\" bgcolor=#ee4100></td><td width=\"1\" bgcolor=#138900></td><td width=\"1\" bgcolor=#aebb00></td><td width=\"1\" bgcolor=#d48e00></td><td width=\"1\" bgcolor=#56a200></td><td width=\"1\" bgcolor=#f42a00></td><td width=\"1\" bgcolor=#228f00></td><td width=\"1\" bgcolor=#c1bb00></td><td width=\"1\" bgcolor=#db7d00></td><td width=\"1\" bgcolor=#6ba800></td><td width=\"1\" bgcolor=#e75600></td><td width=\"1\" bgcolor=#058200></td><td width=\"1\" bgcolor=#97b500></td><td width=\"1\" bgcolor=#ce9f00></td><td width=\"1\" bgcolor=#449c00></td><td width=\"1\" bgcolor=#fe0300></td><td width=\"1\" bgcolor=#3d9900></td><td width=\"1\" bgcolor=#cca400></td><td width=\"1\" bgcolor=#e55e00></td><td width=\"1\" bgcolor=green></td><td width=\"1\" bgcolor=#8eb200></td><td width=\"1\" bgcolor=#f23300></td><td width=\"1\" bgcolor=#1c8d00></td><td width=\"1\" bgcolor=#bebf00></td><td width=\"1\" bgcolor=#d88400></td><td width=\"1\" bgcolor=#63a600></td><td width=\"1\" bgcolor=#f81c00></td><td width=\"1\" bgcolor=#2c9300></td><td width=\"1\" bgcolor=#c5b300></td><td width=\"1\" bgcolor=#df7100></td><td width=\"1\" bgcolor=#78ac00></td><td width=\"1\" bgcolor=#eb4900></td><td width=\"1\" bgcolor=#0d8600></td><td width=\"1\" bgcolor=#a5b900></td><td width=\"1\" bgcolor=#d29500></td><td width=\"1\" bgcolor=#4fa000></td><td width=\"1\" bgcolor=#fb1000></td><td width=\"1\" bgcolor=#349600></td></tr></table>"
      ],
      "text/plain": [
       "<IPython.core.display.HTML object>"
      ]
     },
     "metadata": {},
     "output_type": "display_data"
    }
   ],
   "source": [
    "#create an HTML table with color gradient indicating the original bit position\n",
    "\n",
    "output = \"<table cellspacing=\\\"0\\\" cellpadding=\\\"0\\\"><tr>\"\n",
    "for i in range(0, 162):\n",
    "    if permutedarray[i] < 162:\n",
    "        gradient = colors[permutedarray[i]]\n",
    "        #print i, permutedarray[i], gradient\n",
    "        cellinfo[i] = {\"color\":str(gradient), \"label\":str(i)}\n",
    "        output += \"<td width=\\\"1\\\" bgcolor=\" + cellinfo[i][\"color\"] + \">\"  + \"</td>\"\n",
    "output += \"</tr></table>\"\n",
    "display(HTML(output))"
   ]
  },
  {
   "cell_type": "code",
   "execution_count": 90,
   "metadata": {},
   "outputs": [
    {
     "data": {
      "text/html": [
       "<table cellspacing=\"0\" cellpadding=\"0\"><tr><td width=\"1\" bgcolor=red>0</td><td width=\"1\" bgcolor=#3f9a00>128</td><td width=\"1\" bgcolor=#cda300>64</td><td width=\"1\" bgcolor=#e65b00>32</td><td width=\"1\" bgcolor=#028100>160</td><td width=\"1\" bgcolor=#91b300>96</td><td width=\"1\" bgcolor=#f23000>16</td><td width=\"1\" bgcolor=#1e8d00>144</td><td width=\"1\" bgcolor=#c0bf00>80</td><td width=\"1\" bgcolor=#d98100>48</td><td width=\"1\" bgcolor=#65a700>112</td><td width=\"1\" bgcolor=#f91900>8</td><td width=\"1\" bgcolor=#2e9400>136</td><td width=\"1\" bgcolor=#c6b100>72</td><td width=\"1\" bgcolor=#df6f00>40</td><td width=\"1\" bgcolor=#7aad00>104</td><td width=\"1\" bgcolor=#ec4600>24</td><td width=\"1\" bgcolor=#0f8700>152</td><td width=\"1\" bgcolor=#a8ba00>88</td><td width=\"1\" bgcolor=#d39300>56</td><td width=\"1\" bgcolor=#52a000>120</td><td width=\"1\" bgcolor=#fc0d00>4</td><td width=\"1\" bgcolor=#369700>132</td><td width=\"1\" bgcolor=#c9aa00>68</td><td width=\"1\" bgcolor=#e36500>36</td><td width=\"1\" bgcolor=#85b000>100</td><td width=\"1\" bgcolor=#ef3b00>20</td><td width=\"1\" bgcolor=#168a00>148</td><td width=\"1\" bgcolor=#b5bd00>84</td><td width=\"1\" bgcolor=#d68a00>52</td><td width=\"1\" bgcolor=#5ba300>116</td><td width=\"1\" bgcolor=#f62500>12</td><td width=\"1\" bgcolor=#269100>140</td><td width=\"1\" bgcolor=#c3b800>76</td><td width=\"1\" bgcolor=#dc7800>44</td><td width=\"1\" bgcolor=#70aa00>108</td><td width=\"1\" bgcolor=#e95100>28</td><td width=\"1\" bgcolor=#088400>156</td><td width=\"1\" bgcolor=#9cb600>92</td><td width=\"1\" bgcolor=#d09b00>60</td><td width=\"1\" bgcolor=#489d00>124</td><td width=\"1\" bgcolor=#fd0600>2</td><td width=\"1\" bgcolor=#3b9800>130</td><td width=\"1\" bgcolor=#cba600>66</td><td width=\"1\" bgcolor=#e46000>34</td><td width=\"1\" bgcolor=#8bb200>98</td><td width=\"1\" bgcolor=#f13600>18</td><td width=\"1\" bgcolor=#1a8c00>146</td><td width=\"1\" bgcolor=#bbbe00>82</td><td width=\"1\" bgcolor=#d88600>50</td><td width=\"1\" bgcolor=#60a500>114</td><td width=\"1\" bgcolor=#f71f00>10</td><td width=\"1\" bgcolor=#2a9200>138</td><td width=\"1\" bgcolor=#c5b500>74</td><td width=\"1\" bgcolor=#de7400>42</td><td width=\"1\" bgcolor=#75ab00>106</td><td width=\"1\" bgcolor=#ea4c00>26</td><td width=\"1\" bgcolor=#0c8600>154</td><td width=\"1\" bgcolor=#a2b800>90</td><td width=\"1\" bgcolor=#d19700>58</td><td width=\"1\" bgcolor=#4d9f00>122</td><td width=\"1\" bgcolor=#fa1300>6</td><td width=\"1\" bgcolor=#329500>134</td><td width=\"1\" bgcolor=#c8ae00>70</td><td width=\"1\" bgcolor=#e16a00>38</td><td width=\"1\" bgcolor=#80af00>102</td><td width=\"1\" bgcolor=#ee4100>22</td><td width=\"1\" bgcolor=#138900>150</td><td width=\"1\" bgcolor=#aebb00>86</td><td width=\"1\" bgcolor=#d48e00>54</td><td width=\"1\" bgcolor=#56a200>118</td><td width=\"1\" bgcolor=#f42a00>14</td><td width=\"1\" bgcolor=#228f00>142</td><td width=\"1\" bgcolor=#c1bb00>78</td><td width=\"1\" bgcolor=#db7d00>46</td><td width=\"1\" bgcolor=#6ba800>110</td><td width=\"1\" bgcolor=#e75600>30</td><td width=\"1\" bgcolor=#058200>158</td><td width=\"1\" bgcolor=#97b500>94</td><td width=\"1\" bgcolor=#ce9f00>62</td><td width=\"1\" bgcolor=#449c00>126</td><td width=\"1\" bgcolor=#fe0300>1</td><td width=\"1\" bgcolor=#3d9900>129</td><td width=\"1\" bgcolor=#cca400>65</td><td width=\"1\" bgcolor=#e55e00>33</td><td width=\"1\" bgcolor=green>161</td><td width=\"1\" bgcolor=#8eb200>97</td><td width=\"1\" bgcolor=#f23300>17</td><td width=\"1\" bgcolor=#1c8d00>145</td><td width=\"1\" bgcolor=#bebf00>81</td><td width=\"1\" bgcolor=#d88400>49</td><td width=\"1\" bgcolor=#63a600>113</td><td width=\"1\" bgcolor=#f81c00>9</td><td width=\"1\" bgcolor=#2c9300>137</td><td width=\"1\" bgcolor=#c5b300>73</td><td width=\"1\" bgcolor=#df7100>41</td><td width=\"1\" bgcolor=#78ac00>105</td><td width=\"1\" bgcolor=#eb4900>25</td><td width=\"1\" bgcolor=#0d8600>153</td><td width=\"1\" bgcolor=#a5b900>89</td><td width=\"1\" bgcolor=#d29500>57</td><td width=\"1\" bgcolor=#4fa000>121</td><td width=\"1\" bgcolor=#fb1000>5</td><td width=\"1\" bgcolor=#349600>133</td></tr></table>"
      ],
      "text/plain": [
       "<IPython.core.display.HTML object>"
      ]
     },
     "metadata": {},
     "output_type": "display_data"
    }
   ],
   "source": [
    "#create an HTML table with color gradient indicating the original bit position - but add the cell position number\n",
    "\n",
    "output = \"<table cellspacing=\\\"0\\\" cellpadding=\\\"0\\\"><tr>\"\n",
    "for i in range(0, 162):\n",
    "    if permutedarray[i] < 162:\n",
    "        gradient = colors[permutedarray[i]]\n",
    "        #print i, permutedarray[i], gradient\n",
    "        cellinfo[i] = {\"color\":str(gradient), \"label\":str(permutedarray[i])}\n",
    "        output += \"<td width=\\\"1\\\" bgcolor=\" + cellinfo[i][\"color\"] + \">\" + cellinfo[i][\"label\"] + \"</td>\"\n",
    "output += \"</tr></table>\"\n",
    "display(HTML(output))"
   ]
  },
  {
   "cell_type": "code",
   "execution_count": null,
   "metadata": {},
   "outputs": [],
   "source": []
  }
 ],
 "metadata": {
  "kernelspec": {
   "display_name": "Python 2",
   "language": "python",
   "name": "python2"
  },
  "language_info": {
   "codemirror_mode": {
    "name": "ipython",
    "version": 2
   },
   "file_extension": ".py",
   "mimetype": "text/x-python",
   "name": "python",
   "nbconvert_exporter": "python",
   "pygments_lexer": "ipython2",
   "version": "2.7.13"
  }
 },
 "nbformat": 4,
 "nbformat_minor": 2
}
